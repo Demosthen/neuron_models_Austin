{
 "cells": [
  {
   "cell_type": "code",
   "execution_count": 1,
   "metadata": {},
   "outputs": [],
   "source": [
    "import torchvision\n",
    "import torchvision.transforms as transforms\n",
    "train_set = torchvision.datasets.FashionMNIST(\n",
    "    root = \"./data/FashionMNIST\",\n",
    "    train = True,\n",
    "    download = True,\n",
    "    transform = transforms.Compose([\n",
    "        transforms.ToTensor()\n",
    "    ])\n",
    ")"
   ]
  },
  {
   "cell_type": "code",
   "execution_count": 2,
   "metadata": {},
   "outputs": [],
   "source": [
    "import torch\n",
    "data_loader = torch.utils.data.DataLoader(\n",
    "        train_set,\n",
    "        batch_size = 100\n",
    ")"
   ]
  },
  {
   "cell_type": "code",
   "execution_count": 3,
   "metadata": {},
   "outputs": [],
   "source": [
    "import torch.nn as nn \n",
    "import torch.nn.functional as F\n",
    "import torch.optim as optim\n",
    "class Network(nn.Module):\n",
    "    def __init__(self):\n",
    "        super(Network, self).__init__()\n",
    "        self.conv1 = nn.Conv2d(in_channels = 1, out_channels = 16, kernel_size = 5)\n",
    "        self.conv2 = nn.Conv2d(in_channels = 16, out_channels = 32, kernel_size = 5)\n",
    "        self.fc1 = nn.Linear(in_features = 32*4*4, out_features = 128)\n",
    "        self.fc2 = nn.Linear(in_features = 128, out_features = 64)\n",
    "        self.out = nn.Linear(in_features = 64, out_features = 10)\n",
    "    def forward(self, t):\n",
    "        t = self.conv1(t)\n",
    "        t = F.relu(t)\n",
    "        t = F.max_pool2d(t, kernel_size = 2, stride = 2)\n",
    "        t = self.conv2(t)\n",
    "        t = F.relu(t)\n",
    "        t = F.max_pool2d(t, kernel_size = 2, stride = 2)\n",
    "        t = t.reshape(-1, 32*4*4)\n",
    "        t = self.fc1(t)\n",
    "        t = F.relu(t)\n",
    "        t = self.fc2(t)\n",
    "        t = F.relu(t)\n",
    "        t = self.out(t)\n",
    "        #t = F.softmax(t, dim = 1)\n",
    "        return t"
   ]
  },
  {
   "cell_type": "code",
   "execution_count": 4,
   "metadata": {},
   "outputs": [],
   "source": [
    "network = Network()\n",
    "optimizer = optim.Adam(network.parameters())"
   ]
  },
  {
   "cell_type": "code",
   "execution_count": 5,
   "metadata": {},
   "outputs": [],
   "source": [
    "NUM_EPOCHS = 10\n",
    "for i in range(NUM_EPOCHS):\n",
    "    batches = iter(data_loader)\n",
    "    for image_batch, label_batch in batches:\n",
    "        pred = network(image_batch)\n",
    "        loss = F.cross_entropy(pred, label_batch)\n",
    "        optimizer.zero_grad()\n",
    "        loss.backward()\n",
    "        optimizer.step()"
   ]
  },
  {
   "cell_type": "code",
   "execution_count": 6,
   "metadata": {},
   "outputs": [],
   "source": [
    "def get_num_correct(preds, labels):\n",
    "    return preds.argmax(dim = 1).eq(labels).sum().item()"
   ]
  },
  {
   "cell_type": "code",
   "execution_count": 7,
   "metadata": {},
   "outputs": [
    {
     "name": "stdout",
     "output_type": "stream",
     "text": [
      "94\n"
     ]
    }
   ],
   "source": [
    "batch = next(iter(data_loader))\n",
    "img, lab = batch;\n",
    "pred = network(img)\n",
    "print(get_num_correct(pred, lab))"
   ]
  },
  {
   "cell_type": "code",
   "execution_count": 10,
   "metadata": {},
   "outputs": [],
   "source": [
    "test_set = torchvision.datasets.FashionMNIST(\n",
    "    root = \"./data/FashionMNIST\",\n",
    "    train = False,\n",
    "    download = True,\n",
    "    transform = transforms.Compose([\n",
    "        transforms.ToTensor()\n",
    "    ])\n",
    ")\n",
    "test_loader = torch.utils.data.DataLoader(\n",
    "        test_set,\n",
    "        batch_size = 100\n",
    ")"
   ]
  },
  {
   "cell_type": "code",
   "execution_count": 12,
   "metadata": {},
   "outputs": [
    {
     "name": "stdout",
     "output_type": "stream",
     "text": [
      "accuracy on test dataset: 0.8944, average loss: 0.0028908594977110624\n"
     ]
    }
   ],
   "source": [
    "batches = iter(test_loader)\n",
    "num_correct = 0\n",
    "num_test = 0\n",
    "total_loss = 0\n",
    "for image_batch, label_batch in batches:\n",
    "    pred = network(image_batch)\n",
    "    loss = F.cross_entropy(pred, label_batch)\n",
    "    num_correct += get_num_correct(pred, label_batch)\n",
    "    num_test += 100\n",
    "    total_loss += loss\n",
    "print(\"accuracy on test dataset: {}, average loss: {}\".format(num_correct/num_test, total_loss/num_test) )"
   ]
  },
  {
   "cell_type": "code",
   "execution_count": null,
   "metadata": {},
   "outputs": [],
   "source": []
  },
  {
   "cell_type": "code",
   "execution_count": null,
   "metadata": {},
   "outputs": [],
   "source": []
  }
 ],
 "metadata": {
  "kernelspec": {
   "display_name": "Python 3",
   "language": "python",
   "name": "python3"
  },
  "language_info": {
   "codemirror_mode": {
    "name": "ipython",
    "version": 3
   },
   "file_extension": ".py",
   "mimetype": "text/x-python",
   "name": "python",
   "nbconvert_exporter": "python",
   "pygments_lexer": "ipython3",
   "version": "3.7.6"
  }
 },
 "nbformat": 4,
 "nbformat_minor": 4
}
